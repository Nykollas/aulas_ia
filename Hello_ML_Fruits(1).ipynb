{
  "nbformat": 4,
  "nbformat_minor": 0,
  "metadata": {
    "colab": {
      "name": "Hello_ML_Fruits.ipynb",
      "provenance": [],
      "collapsed_sections": []
    },
    "kernelspec": {
      "name": "python3",
      "display_name": "Python 3"
    }
  },
  "cells": [
    {
      "cell_type": "code",
      "metadata": {
        "id": "CCBJ7-FExNsL",
        "colab_type": "code",
        "colab": {}
      },
      "source": [
        "import pandas as pd\n",
        "from sklearn import tree\n",
        "\n",
        "#Obtendo base de dados\n",
        "dataset = pd.read_excel(\"./dataset.xlsx\")\n",
        "\n",
        "#Separando features\n",
        "features = dataset[[\"Cor - SRM\", 'Alcool']]\n",
        "\n",
        "#Separando labels (classes)\n",
        "labels = dataset[['Bebida']]\n",
        "\n",
        "#Substituindo valores qualitativos por valores logísticos\n",
        "labels = labels.replace([\"Cerveja\", \"Vinho\"], [0,1])\n"
      ],
      "execution_count": 0,
      "outputs": []
    },
    {
      "cell_type": "code",
      "metadata": {
        "id": "wpOWBwiB4SZU",
        "colab_type": "code",
        "colab": {}
      },
      "source": [
        "#Separando conjunto e treinamento\n",
        "train_features = features[0:5]\n",
        "train_labels =    labels[0:5]\n",
        "\n",
        "#Separando conjunto de teste\n",
        "test_features = features[5:]\n",
        "test_labels =    labels[5:]\n",
        "\n",
        "#Instaciando classificador baseado em árvores de decisão\n",
        "clf =  tree.DecisionTreeClassifier() # qual algoritmo vou usar\n",
        "\n",
        "clf = clf.fit(train_features, train_labels) #treinar\n"
      ],
      "execution_count": 0,
      "outputs": []
    },
    {
      "cell_type": "code",
      "metadata": {
        "id": "gGbs3_6a6hsj",
        "colab_type": "code",
        "outputId": "414f3f61-2e4e-4ed1-8915-d4d5289bed11",
        "colab": {
          "base_uri": "https://localhost:8080/",
          "height": 121
        }
      },
      "source": [
        "\n",
        "#Predição para o conjunto de test\n",
        "print(clf.predict(test_features))\n",
        "\n",
        "#Valores verdadeiros do conjunto de test\n",
        "print(test_labels)"
      ],
      "execution_count": 41,
      "outputs": [
        {
          "output_type": "stream",
          "text": [
            "[1 1 0 1]\n",
            "   Bebida\n",
            "5       1\n",
            "6       1\n",
            "7       0\n",
            "8       1\n"
          ],
          "name": "stdout"
        }
      ]
    }
  ]
}